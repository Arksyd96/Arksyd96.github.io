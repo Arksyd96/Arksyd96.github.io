{
 "cells": [
  {
   "cell_type": "markdown",
   "metadata": {},
   "source": [
    "# Forward process\n",
    "We should note as a reminer the following notations and definitions:  \n",
    "$$\\mathbf{x}_{1:T} \\equiv (\\mathbf{x}_1, \\mathbf{x}_2, ..., \\mathbf{x}_T)$$\n",
    "Bayses law : $$p(x|y) = \\frac{p(x,y)}{p(y)} = \\frac{p(x)\\times p(y|x)}{p(y)}$$\n",
    "Joint probablity of independant events : $$p(x,y) = p(x)\\times p(y)$$\n",
    "Joint probablity of dependant events : $$p(x,y) = p(x)\\times p(y|x) = p(y)\\times p(x|y)$$\n",
    "Chain rule: $$p(x_1, x_2, ..., x_n) = p(x_1)\\times p(x_2|x_1)\\times p(x_3|x_2, x_1) ... \\times p(x_n|x_{n-1}, ..., x_1) = \\prod_{t=1}^{n}p(x_t|x_{t-1}, ..., x_1)$$\n",
    "\n",
    "\n",
    "We define the forward process as a Markov chain of order 1, in which the state at time $t$ depends only on the state at time $t-1$ (Markovian property). $q$ represent the transition probability of the Markov chain. The forward process is defined as a noising process in which a Gaussian noise with mean $\\sqrt{1 - \\beta_t}x_{t-1}$ and covariance $\\beta_t\\mathbf{I}$ is gradually added to the state $x_{t-1}$ to obtain the state $x_t$, following a scheduler $\\beta_t \\in [\\beta_0, \\beta_1, ..., \\beta_T]$, with $T$ being the number of states in the chain.\n",
    "\n",
    "$$q(x_t|x_{t-1}) = \\mathcal{N}(x_t;\\sqrt{1 - \\beta_t}x_{t-1},\\beta_t\\mathbf{I})$$\n",
    "\n",
    "Given the Markovian property, and the chain rule defined above, a more general form of the transition probability can be defined as (We fix x_0 as a condition since its initial state):  \n",
    "$$q(x_{1:T}|x_0) = \\prod_{t=1}^{T}q(x_t|x_{0}, x_{1:t-1})$$\n",
    "$$q(x_{1:T}|x_0) = q(x_1|x_0)\\times q(x_2|x_1, x_0)\\times q(x_3|x_2, x_1, x_0)... \\times q(x_T|x_{T-1}, ..., x_0)$$\n",
    "\n",
    "Markovian property implies that each term in the product is only dependent on the previous state. Therefore, we can simplify the expression as:\n",
    "$$q(x_{1:T}|x_0) = q(x_1|x_0)\\times q(x_2|x_1)\\times q(x_3|x_2)... \\times q(x_T|x_{T-1})$$  \n",
    "And thus, we obtain: \n",
    "$$q(x_{1:T}|x_0) = \\prod_{t=1}^{T}q(x_t|x_{t-1})$$\n",
    "\n",
    "From this joint conditional probability, we can obtain the marginal probability of the state $x_t$ by marginalizing over all the other states (See link):\n",
    "$$q(x_t|x_0) = \\int q(x_{1:T}|x_0)dx_{1:t-1}dx_{t+1:T}$$\n",
    "\n",
    "However, by the Markov property, the joint can be factorized as:  \n",
    "$$q(x_{1:T}|x_0) = q(x_{1:t}|x_0) \\times q(x_{t+1:T}|x_t)$$ \n",
    "Since each term is only dependent on the previous state.\n",
    "\n",
    "Since $q(x_{t+1:T}|x_t)$ is a valid conditional distribution, it integrates to 1:\n",
    "$$\\int q(x_{t+1:T}|x_t)dx_{t+1:T} = 1$$\n",
    "\n",
    "Thus, the marginal probability of the state $x_t$ simplifies to :\n",
    "$$q(x_t|x_0) = \\int q(x_{1:t}|x_0)dx_{1:t-1}$$\n",
    "\n",
    "Which is totally logical since the state $x_t$ is only dependent on the chain of states from $x_0$ to $x_{t-1}$."
   ]
  }
 ],
 "metadata": {
  "language_info": {
   "name": "python"
  }
 },
 "nbformat": 4,
 "nbformat_minor": 2
}
